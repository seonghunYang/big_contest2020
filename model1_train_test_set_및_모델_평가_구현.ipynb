{
  "nbformat": 4,
  "nbformat_minor": 0,
  "metadata": {
    "colab": {
      "name": "model1- train_test set 및 모델 평가 구현.ipynb",
      "provenance": [],
      "authorship_tag": "ABX9TyPeZS1Fw3Im7kGPxcRqzGD/",
      "include_colab_link": true
    },
    "kernelspec": {
      "name": "python3",
      "display_name": "Python 3"
    }
  },
  "cells": [
    {
      "cell_type": "markdown",
      "metadata": {
        "id": "view-in-github",
        "colab_type": "text"
      },
      "source": [
        "<a href=\"https://colab.research.google.com/github/seonghunYang/big_contest2020/blob/master/model1_train_test_set_%EB%B0%8F_%EB%AA%A8%EB%8D%B8_%ED%8F%89%EA%B0%80_%EA%B5%AC%ED%98%84.ipynb\" target=\"_parent\"><img src=\"https://colab.research.google.com/assets/colab-badge.svg\" alt=\"Open In Colab\"/></a>"
      ]
    },
    {
      "cell_type": "code",
      "metadata": {
        "id": "L98ZuHcTvSEi",
        "colab_type": "code",
        "colab": {}
      },
      "source": [
        "import pandas as pd"
      ],
      "execution_count": 1,
      "outputs": []
    },
    {
      "cell_type": "code",
      "metadata": {
        "id": "9hzNG_1Ivpea",
        "colab_type": "code",
        "colab": {
          "base_uri": "https://localhost:8080/",
          "height": 127
        },
        "outputId": "26082b9e-98a9-4265-b8df-44938d58d66a"
      },
      "source": [
        "from google.colab import auth\n",
        "auth.authenticate_user()\n",
        "\n",
        "from google.colab import drive\n",
        "drive.mount('/content/gdrive')"
      ],
      "execution_count": 2,
      "outputs": [
        {
          "output_type": "stream",
          "text": [
            "Go to this URL in a browser: https://accounts.google.com/o/oauth2/auth?client_id=947318989803-6bn6qk8qdgf4n4g3pfee6491hc0brc4i.apps.googleusercontent.com&redirect_uri=urn%3aietf%3awg%3aoauth%3a2.0%3aoob&scope=email%20https%3a%2f%2fwww.googleapis.com%2fauth%2fdocs.test%20https%3a%2f%2fwww.googleapis.com%2fauth%2fdrive%20https%3a%2f%2fwww.googleapis.com%2fauth%2fdrive.photos.readonly%20https%3a%2f%2fwww.googleapis.com%2fauth%2fpeopleapi.readonly&response_type=code\n",
            "\n",
            "Enter your authorization code:\n",
            "··········\n",
            "Mounted at /content/gdrive\n"
          ],
          "name": "stdout"
        }
      ]
    },
    {
      "cell_type": "code",
      "metadata": {
        "id": "TRzpx1FqvrnP",
        "colab_type": "code",
        "colab": {}
      },
      "source": [
        "team_pitcher = pd.read_csv('./gdrive/My Drive/빅콘테스트2020/EDA결과/최근/1차_최종_팀투수.csv', encoding='utf-8-sig')\n",
        "pitcher = pd.read_csv('./gdrive/My Drive/빅콘테스트2020/EDA결과/최근/1차_최종_개인투수.csv', encoding='utf-8-sig')\n",
        "team_hitter = pd.read_csv('./gdrive/My Drive/빅콘테스트2020/EDA결과/최근/1차_최종_팀타자.csv', encoding='utf-8-sig')\n",
        "hitter = pd.read_csv('./gdrive/My Drive/빅콘테스트2020/EDA결과/최근/1차_최종_개인타자.csv', encoding='utf-8-sig')\n",
        "team_data = pd.read_csv('./gdrive/My Drive/빅콘테스트2020/EDA결과/최근/1차_최종_공통.csv', encoding='utf-8-sig')\n",
        "vs_team_pitcher = pd.read_csv('./gdrive/My Drive/빅콘테스트2020/EDA결과/최근/1차_최종_상대_팀투수.csv', encoding='utf-8-sig')\n",
        "vs_team_hitter = pd.read_csv('./gdrive/My Drive/빅콘테스트2020/EDA결과/최근/1차_최종_상대_팀타자.csv', encoding='utf-8-sig')\n",
        "r_team_pitcher = pd.read_csv('./gdrive/My Drive/빅콘테스트2020/EDA결과/최근/1차_최종_최근_팀투수.csv', encoding='utf-8-sig')\n",
        "r_team_hitter = pd.read_csv('./gdrive/My Drive/빅콘테스트2020/EDA결과/최근/1차_최종_최근_팀타자.csv', encoding='utf-8-sig')"
      ],
      "execution_count": 3,
      "outputs": []
    },
    {
      "cell_type": "code",
      "metadata": {
        "id": "tVf57dMXwEIw",
        "colab_type": "code",
        "colab": {}
      },
      "source": [
        "vs_team_pitcher.to_csv('./gdrive/My Drive/빅콘테스트2020/EDA결과/최근/1차_최종_상대_팀투수.csv', encoding='utf-8-sig', index=False)\n",
        "vs_team_hitter.to_csv('./gdrive/My Drive/빅콘테스트2020/EDA결과/최근/1차_최종_상대_팀타자.csv', encoding='utf-8-sig', index=False)\n",
        "r_team_pitcher.to_csv('./gdrive/My Drive/빅콘테스트2020/EDA결과/최근/1차_최종_최근_팀투수.csv', encoding='utf-8-sig', index=False)\n",
        "r_team_hitter.to_csv('./gdrive/My Drive/빅콘테스트2020/EDA결과/최근/1차_최종_최근_팀타자.csv', encoding='utf-8-sig', index=False)\n",
        "team_pitcher.to_csv('./gdrive/My Drive/빅콘테스트2020/EDA결과/최근/1차_최종_팀투수.csv', encoding='utf-8-sig', index=False)\n",
        "pitcher.to_csv('./gdrive/My Drive/빅콘테스트2020/EDA결과/최근/1차_최종_개인투수.csv', encoding='utf-8-sig', index=False)\n",
        "team_data.to_csv('./gdrive/My Drive/빅콘테스트2020/EDA결과/최근/1차_최종_공통.csv', encoding='utf-8-sig', index=False)\n",
        "team_hitter.to_csv('./gdrive/My Drive/빅콘테스트2020/EDA결과/최근/1차_최종_팀타자.csv', encoding='utf-8-sig', index=False)\n",
        "hitter.to_csv('./gdrive/My Drive/빅콘테스트2020/EDA결과/최근/1차_최종_개인타자.csv', encoding='utf-8-sig', index=False)"
      ],
      "execution_count": null,
      "outputs": []
    }
  ]
}