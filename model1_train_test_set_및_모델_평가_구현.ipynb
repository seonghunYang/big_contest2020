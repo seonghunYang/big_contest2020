{
  "nbformat": 4,
  "nbformat_minor": 0,
  "metadata": {
    "colab": {
      "name": "model1- train_test set 및 모델 평가 구현.ipynb",
      "provenance": [],
      "authorship_tag": "ABX9TyPrTKQjwU1pMa8rIq3kWQxT",
      "include_colab_link": true
    },
    "kernelspec": {
      "name": "python3",
      "display_name": "Python 3"
    }
  },
  "cells": [
    {
      "cell_type": "markdown",
      "metadata": {
        "id": "view-in-github",
        "colab_type": "text"
      },
      "source": [
        "<a href=\"https://colab.research.google.com/github/seonghunYang/big_contest2020/blob/master/model1_train_test_set_%EB%B0%8F_%EB%AA%A8%EB%8D%B8_%ED%8F%89%EA%B0%80_%EA%B5%AC%ED%98%84.ipynb\" target=\"_parent\"><img src=\"https://colab.research.google.com/assets/colab-badge.svg\" alt=\"Open In Colab\"/></a>"
      ]
    },
    {
      "cell_type": "code",
      "metadata": {
        "id": "L98ZuHcTvSEi",
        "colab_type": "code",
        "colab": {}
      },
      "source": [
        "import pandas as pd\n",
        "path = './gdrive/My Drive/빅콘테스트2020/데이터/2020빅콘테스트 데이터분석분야-퓨쳐스리그_스포츠투아이_제공데이터(.CSV)_시즌별, 시트별 구분/'"
      ],
      "execution_count": 7,
      "outputs": []
    },
    {
      "cell_type": "code",
      "metadata": {
        "id": "9hzNG_1Ivpea",
        "colab_type": "code",
        "colab": {
          "base_uri": "https://localhost:8080/",
          "height": 127
        },
        "outputId": "26082b9e-98a9-4265-b8df-44938d58d66a"
      },
      "source": [
        "from google.colab import auth\n",
        "auth.authenticate_user()\n",
        "\n",
        "from google.colab import drive\n",
        "drive.mount('/content/gdrive')"
      ],
      "execution_count": 2,
      "outputs": [
        {
          "output_type": "stream",
          "text": [
            "Go to this URL in a browser: https://accounts.google.com/o/oauth2/auth?client_id=947318989803-6bn6qk8qdgf4n4g3pfee6491hc0brc4i.apps.googleusercontent.com&redirect_uri=urn%3aietf%3awg%3aoauth%3a2.0%3aoob&scope=email%20https%3a%2f%2fwww.googleapis.com%2fauth%2fdocs.test%20https%3a%2f%2fwww.googleapis.com%2fauth%2fdrive%20https%3a%2f%2fwww.googleapis.com%2fauth%2fdrive.photos.readonly%20https%3a%2f%2fwww.googleapis.com%2fauth%2fpeopleapi.readonly&response_type=code\n",
            "\n",
            "Enter your authorization code:\n",
            "··········\n",
            "Mounted at /content/gdrive\n"
          ],
          "name": "stdout"
        }
      ]
    },
    {
      "cell_type": "code",
      "metadata": {
        "id": "TRzpx1FqvrnP",
        "colab_type": "code",
        "colab": {}
      },
      "source": [
        "team_pitcher = pd.read_csv('./gdrive/My Drive/빅콘테스트2020/EDA결과/최근/1차_최종_팀투수.csv', encoding='utf-8-sig')\n",
        "pitcher = pd.read_csv('./gdrive/My Drive/빅콘테스트2020/EDA결과/최근/1차_최종_개인투수.csv', encoding='utf-8-sig')\n",
        "team_hitter = pd.read_csv('./gdrive/My Drive/빅콘테스트2020/EDA결과/최근/1차_최종_팀타자.csv', encoding='utf-8-sig')\n",
        "hitter = pd.read_csv('./gdrive/My Drive/빅콘테스트2020/EDA결과/최근/1차_최종_개인타자.csv', encoding='utf-8-sig')\n",
        "team_data = pd.read_csv('./gdrive/My Drive/빅콘테스트2020/EDA결과/최근/1차_최종_공통.csv', encoding='utf-8-sig')\n",
        "vs_team_pitcher = pd.read_csv('./gdrive/My Drive/빅콘테스트2020/EDA결과/최근/1차_최종_상대_팀투수.csv', encoding='utf-8-sig')\n",
        "vs_team_hitter = pd.read_csv('./gdrive/My Drive/빅콘테스트2020/EDA결과/최근/1차_최종_상대_팀타자.csv', encoding='utf-8-sig')\n",
        "r_team_pitcher = pd.read_csv('./gdrive/My Drive/빅콘테스트2020/EDA결과/최근/1차_최종_최근_팀투수.csv', encoding='utf-8-sig')\n",
        "r_team_hitter = pd.read_csv('./gdrive/My Drive/빅콘테스트2020/EDA결과/최근/1차_최종_최근_팀타자.csv', encoding='utf-8-sig')"
      ],
      "execution_count": 5,
      "outputs": []
    },
    {
      "cell_type": "code",
      "metadata": {
        "id": "tVf57dMXwEIw",
        "colab_type": "code",
        "colab": {}
      },
      "source": [
        "vs_team_pitcher.to_csv('./gdrive/My Drive/빅콘테스트2020/EDA결과/최근/1차_최종_상대_팀투수.csv', encoding='utf-8-sig', index=False)\n",
        "vs_team_hitter.to_csv('./gdrive/My Drive/빅콘테스트2020/EDA결과/최근/1차_최종_상대_팀타자.csv', encoding='utf-8-sig', index=False)\n",
        "r_team_pitcher.to_csv('./gdrive/My Drive/빅콘테스트2020/EDA결과/최근/1차_최종_최근_팀투수.csv', encoding='utf-8-sig', index=False)\n",
        "r_team_hitter.to_csv('./gdrive/My Drive/빅콘테스트2020/EDA결과/최근/1차_최종_최근_팀타자.csv', encoding='utf-8-sig', index=False)\n",
        "team_pitcher.to_csv('./gdrive/My Drive/빅콘테스트2020/EDA결과/최근/1차_최종_팀투수.csv', encoding='utf-8-sig', index=False)\n",
        "pitcher.to_csv('./gdrive/My Drive/빅콘테스트2020/EDA결과/최근/1차_최종_개인투수.csv', encoding='utf-8-sig', index=False)\n",
        "team_data.to_csv('./gdrive/My Drive/빅콘테스트2020/EDA결과/최근/1차_최종_공통.csv', encoding='utf-8-sig', index=False)\n",
        "team_hitter.to_csv('./gdrive/My Drive/빅콘테스트2020/EDA결과/최근/1차_최종_팀타자.csv', encoding='utf-8-sig', index=False)\n",
        "hitter.to_csv('./gdrive/My Drive/빅콘테스트2020/EDA결과/최근/1차_최종_개인타자.csv', encoding='utf-8-sig', index=False)"
      ],
      "execution_count": 4,
      "outputs": []
    },
    {
      "cell_type": "code",
      "metadata": {
        "id": "qfujoTSBwmAr",
        "colab_type": "code",
        "colab": {}
      },
      "source": [
        "game_2016 = pd.read_csv(path + '2020빅콘테스트_스포츠투아이_제공데이터_경기_2016.csv', encoding='CP949')\n",
        "game_2017 = pd.read_csv(path + '2020빅콘테스트_스포츠투아이_제공데이터_경기_2017.csv', encoding='CP949')\n",
        "game_2018 = pd.read_csv(path + '2020빅콘테스트_스포츠투아이_제공데이터_경기_2018.csv', encoding='CP949')\n",
        "game_2019 = pd.read_csv(path + '2020빅콘테스트_스포츠투아이_제공데이터_경기_2019.csv', encoding='CP949')\n",
        "game_2020 = pd.read_csv(path + '2020빅콘테스트_스포츠투아이_제공데이터_경기_2020.csv', encoding='CP949')\n",
        "game_list = [game_2016, game_2017, game_2018, game_2019, game_2020]\n",
        "game = pd.concat(game_list)"
      ],
      "execution_count": 13,
      "outputs": []
    },
    {
      "cell_type": "code",
      "metadata": {
        "id": "fSaA3XBIwsE7",
        "colab_type": "code",
        "colab": {
          "base_uri": "https://localhost:8080/",
          "height": 405
        },
        "outputId": "d58f92eb-a1db-4616-8b5a-d2b62ed8afeb"
      },
      "source": [
        "# y_data 타율(타수/안타), 평자(이닝/자책점 * 9), 승패 가져오기\n"
      ],
      "execution_count": 14,
      "outputs": [
        {
          "output_type": "execute_result",
          "data": {
            "text/html": [
              "<div>\n",
              "<style scoped>\n",
              "    .dataframe tbody tr th:only-of-type {\n",
              "        vertical-align: middle;\n",
              "    }\n",
              "\n",
              "    .dataframe tbody tr th {\n",
              "        vertical-align: top;\n",
              "    }\n",
              "\n",
              "    .dataframe thead th {\n",
              "        text-align: right;\n",
              "    }\n",
              "</style>\n",
              "<table border=\"1\" class=\"dataframe\">\n",
              "  <thead>\n",
              "    <tr style=\"text-align: right;\">\n",
              "      <th></th>\n",
              "      <th>G_ID</th>\n",
              "      <th>GDAY_DS</th>\n",
              "      <th>VISIT_KEY</th>\n",
              "      <th>HOME_KEY</th>\n",
              "      <th>HEADER_NO</th>\n",
              "      <th>GWEEK</th>\n",
              "      <th>STADIUM</th>\n",
              "    </tr>\n",
              "  </thead>\n",
              "  <tbody>\n",
              "    <tr>\n",
              "      <th>0</th>\n",
              "      <td>20160401HHLG0</td>\n",
              "      <td>20160401</td>\n",
              "      <td>HH</td>\n",
              "      <td>LG</td>\n",
              "      <td>0</td>\n",
              "      <td>금</td>\n",
              "      <td>잠실</td>\n",
              "    </tr>\n",
              "    <tr>\n",
              "      <th>1</th>\n",
              "      <td>20160401HTNC0</td>\n",
              "      <td>20160401</td>\n",
              "      <td>HT</td>\n",
              "      <td>NC</td>\n",
              "      <td>0</td>\n",
              "      <td>금</td>\n",
              "      <td>마산</td>\n",
              "    </tr>\n",
              "    <tr>\n",
              "      <th>2</th>\n",
              "      <td>20160401KTSK0</td>\n",
              "      <td>20160401</td>\n",
              "      <td>KT</td>\n",
              "      <td>SK</td>\n",
              "      <td>0</td>\n",
              "      <td>금</td>\n",
              "      <td>문학</td>\n",
              "    </tr>\n",
              "    <tr>\n",
              "      <th>3</th>\n",
              "      <td>20160401LTWO0</td>\n",
              "      <td>20160401</td>\n",
              "      <td>LT</td>\n",
              "      <td>WO</td>\n",
              "      <td>0</td>\n",
              "      <td>금</td>\n",
              "      <td>고척</td>\n",
              "    </tr>\n",
              "    <tr>\n",
              "      <th>4</th>\n",
              "      <td>20160401OBSS0</td>\n",
              "      <td>20160401</td>\n",
              "      <td>OB</td>\n",
              "      <td>SS</td>\n",
              "      <td>0</td>\n",
              "      <td>금</td>\n",
              "      <td>대구</td>\n",
              "    </tr>\n",
              "    <tr>\n",
              "      <th>...</th>\n",
              "      <td>...</td>\n",
              "      <td>...</td>\n",
              "      <td>...</td>\n",
              "      <td>...</td>\n",
              "      <td>...</td>\n",
              "      <td>...</td>\n",
              "      <td>...</td>\n",
              "    </tr>\n",
              "    <tr>\n",
              "      <th>315</th>\n",
              "      <td>20200719HHLG0</td>\n",
              "      <td>20200719</td>\n",
              "      <td>HH</td>\n",
              "      <td>LG</td>\n",
              "      <td>0</td>\n",
              "      <td>일</td>\n",
              "      <td>잠실</td>\n",
              "    </tr>\n",
              "    <tr>\n",
              "      <th>316</th>\n",
              "      <td>20200719KTNC0</td>\n",
              "      <td>20200719</td>\n",
              "      <td>KT</td>\n",
              "      <td>NC</td>\n",
              "      <td>0</td>\n",
              "      <td>일</td>\n",
              "      <td>창원</td>\n",
              "    </tr>\n",
              "    <tr>\n",
              "      <th>317</th>\n",
              "      <td>20200719LTSS0</td>\n",
              "      <td>20200719</td>\n",
              "      <td>LT</td>\n",
              "      <td>SS</td>\n",
              "      <td>0</td>\n",
              "      <td>일</td>\n",
              "      <td>대구</td>\n",
              "    </tr>\n",
              "    <tr>\n",
              "      <th>318</th>\n",
              "      <td>20200719OBHT0</td>\n",
              "      <td>20200719</td>\n",
              "      <td>OB</td>\n",
              "      <td>HT</td>\n",
              "      <td>0</td>\n",
              "      <td>일</td>\n",
              "      <td>광주</td>\n",
              "    </tr>\n",
              "    <tr>\n",
              "      <th>319</th>\n",
              "      <td>20200719WOSK0</td>\n",
              "      <td>20200719</td>\n",
              "      <td>WO</td>\n",
              "      <td>SK</td>\n",
              "      <td>0</td>\n",
              "      <td>일</td>\n",
              "      <td>문학</td>\n",
              "    </tr>\n",
              "  </tbody>\n",
              "</table>\n",
              "<p>3200 rows × 7 columns</p>\n",
              "</div>"
            ],
            "text/plain": [
              "              G_ID   GDAY_DS VISIT_KEY HOME_KEY  HEADER_NO GWEEK STADIUM\n",
              "0    20160401HHLG0  20160401        HH       LG          0     금      잠실\n",
              "1    20160401HTNC0  20160401        HT       NC          0     금      마산\n",
              "2    20160401KTSK0  20160401        KT       SK          0     금      문학\n",
              "3    20160401LTWO0  20160401        LT       WO          0     금      고척\n",
              "4    20160401OBSS0  20160401        OB       SS          0     금      대구\n",
              "..             ...       ...       ...      ...        ...   ...     ...\n",
              "315  20200719HHLG0  20200719        HH       LG          0     일      잠실\n",
              "316  20200719KTNC0  20200719        KT       NC          0     일      창원\n",
              "317  20200719LTSS0  20200719        LT       SS          0     일      대구\n",
              "318  20200719OBHT0  20200719        OB       HT          0     일      광주\n",
              "319  20200719WOSK0  20200719        WO       SK          0     일      문학\n",
              "\n",
              "[3200 rows x 7 columns]"
            ]
          },
          "metadata": {
            "tags": []
          },
          "execution_count": 14
        }
      ]
    },
    {
      "cell_type": "code",
      "metadata": {
        "id": "t2AXQPrqyInG",
        "colab_type": "code",
        "colab": {}
      },
      "source": [
        ""
      ],
      "execution_count": null,
      "outputs": []
    }
  ]
}